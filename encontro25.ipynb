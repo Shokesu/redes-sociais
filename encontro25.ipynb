{
 "cells": [
  {
   "cell_type": "markdown",
   "metadata": {},
   "source": [
    "# Encontro 25: Preferential Attachment\n",
    "\n",
    "Importando as bibliotecas:"
   ]
  },
  {
   "cell_type": "code",
   "execution_count": null,
   "metadata": {
    "collapsed": true,
    "scrolled": true
   },
   "outputs": [],
   "source": [
    "import sys\n",
    "sys.path.append('..')\n",
    "\n",
    "import socnet as sn\n",
    "import matplotlib.pyplot as plt\n",
    "\n",
    "%matplotlib inline  "
   ]
  },
  {
   "cell_type": "markdown",
   "metadata": {},
   "source": [
    "Configurando as bibliotecas:"
   ]
  },
  {
   "cell_type": "code",
   "execution_count": null,
   "metadata": {
    "collapsed": true
   },
   "outputs": [],
   "source": [
    "sn.node_size = 3\n",
    "sn.node_color = (0, 0, 0)\n",
    "\n",
    "sn.edge_width = 1\n",
    "sn.edge_color = (192, 192, 192)"
   ]
  },
  {
   "cell_type": "markdown",
   "metadata": {},
   "source": [
    "Gerando o grafo:"
   ]
  },
  {
   "cell_type": "code",
   "execution_count": null,
   "metadata": {
    "collapsed": true,
    "scrolled": false
   },
   "outputs": [],
   "source": [
    "from random import random, choice, uniform\n",
    "from bisect import bisect_left\n",
    "\n",
    "\n",
    "P = 0.5\n",
    "N = 500\n",
    "\n",
    "\n",
    "g = sn.generate_empty_graph(1)\n",
    "\n",
    "for _ in range(N - 1):\n",
    "    nodes = list(g.nodes)\n",
    "\n",
    "    n = len(nodes)\n",
    "\n",
    "    g.add_node(n)\n",
    "\n",
    "    if random() < P:\n",
    "        m = choice(nodes)\n",
    "    else:\n",
    "        cdf = [g.degree(nodes[0])]\n",
    "\n",
    "        for m in nodes[1:]:\n",
    "            cdf.append(cdf[-1] + g.degree(m))\n",
    "\n",
    "        x = uniform(0, cdf[-1])\n",
    "\n",
    "        m = bisect_left(cdf, x)\n",
    "\n",
    "    g.add_edge(n, m)"
   ]
  },
  {
   "cell_type": "markdown",
   "metadata": {},
   "source": [
    "Mostrando o grafo:"
   ]
  },
  {
   "cell_type": "code",
   "execution_count": null,
   "metadata": {
    "collapsed": true
   },
   "outputs": [],
   "source": [
    "sn.reset_node_colors(g)\n",
    "sn.reset_edge_colors(g)\n",
    "\n",
    "sn.reset_positions(g)\n",
    "\n",
    "sn.show_graph(g)"
   ]
  },
  {
   "cell_type": "markdown",
   "metadata": {},
   "source": [
    "Comparando a distribuição dos graus com a *power law* $x^{-(1 + 1/(1 - p))}$"
   ]
  },
  {
   "cell_type": "code",
   "execution_count": null,
   "metadata": {
    "collapsed": true
   },
   "outputs": [],
   "source": [
    "_, bins, _ = plt.hist([g.degree(n) for n in g.nodes], normed=True)\n",
    "\n",
    "xs = list(range(int(bins[0]), int(bins[-1]) + 1))\n",
    "\n",
    "plt.plot(xs, [x ** -(1 + (1 / (1 - P))) for x in xs])\n",
    "\n",
    "plt.show()"
   ]
  }
 ],
 "metadata": {
  "kernelspec": {
   "display_name": "Python 3",
   "language": "python",
   "name": "python3"
  },
  "language_info": {
   "codemirror_mode": {
    "name": "ipython",
    "version": 3
   },
   "file_extension": ".py",
   "mimetype": "text/x-python",
   "name": "python",
   "nbconvert_exporter": "python",
   "pygments_lexer": "ipython3",
   "version": "3.5.4"
  }
 },
 "nbformat": 4,
 "nbformat_minor": 1
}
