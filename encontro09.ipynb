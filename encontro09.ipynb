{
 "cells": [
  {
   "cell_type": "markdown",
   "metadata": {},
   "source": [
    "# Encontro 09: Simulação de Balanceamento\n",
    "\n",
    "Importando a biblioteca:"
   ]
  },
  {
   "cell_type": "code",
   "execution_count": null,
   "metadata": {
    "scrolled": true
   },
   "outputs": [],
   "source": [
    "import sys\n",
    "sys.path.append('..')\n",
    "\n",
    "import socnet as sn"
   ]
  },
  {
   "cell_type": "markdown",
   "metadata": {},
   "source": [
    "Configurando a biblioteca:"
   ]
  },
  {
   "cell_type": "code",
   "execution_count": null,
   "metadata": {
    "collapsed": true
   },
   "outputs": [],
   "source": [
    "sn.node_size = 3\n",
    "sn.node_color = (0, 0, 0)\n",
    "\n",
    "sn.edge_width = 1\n",
    "sn.edge_color = (192, 192, 192)"
   ]
  },
  {
   "cell_type": "markdown",
   "metadata": {},
   "source": [
    "Gerando um grafo completo:"
   ]
  },
  {
   "cell_type": "code",
   "execution_count": null,
   "metadata": {},
   "outputs": [],
   "source": [
    "g = sn.generate_complete_graph(15)\n",
    "\n",
    "sn.show_graph(g)"
   ]
  },
  {
   "cell_type": "markdown",
   "metadata": {},
   "source": [
    "Atribuindo aleatoriamente tipos negativos e positivos às arestas:"
   ]
  },
  {
   "cell_type": "code",
   "execution_count": null,
   "metadata": {
    "collapsed": true
   },
   "outputs": [],
   "source": [
    "from random import random\n",
    "\n",
    "\n",
    "def randomize_types(g):\n",
    "    for n, m in g.edges():\n",
    "        if random() < 0.5:\n",
    "            g.edge[n][m]['type'] = -1\n",
    "        else:\n",
    "            g.edge[n][m]['type'] = 1\n",
    "\n",
    "\n",
    "randomize_types(g)"
   ]
  },
  {
   "cell_type": "markdown",
   "metadata": {},
   "source": [
    "Convertendo tipos em cores para visualização:"
   ]
  },
  {
   "cell_type": "code",
   "execution_count": null,
   "metadata": {},
   "outputs": [],
   "source": [
    "def convert_types_to_colors(g):\n",
    "    for n, m in g.edges():\n",
    "        if g.edge[n][m]['type'] == -1:\n",
    "            g.edge[n][m]['color'] = (255, 0, 0)\n",
    "        else:\n",
    "            g.edge[n][m]['color'] = (0, 0, 255)\n",
    "\n",
    "\n",
    "convert_types_to_colors(g)\n",
    "\n",
    "sn.show_graph(g)"
   ]
  },
  {
   "cell_type": "markdown",
   "metadata": {},
   "source": [
    "Definindo uma atualização de tipo:"
   ]
  },
  {
   "cell_type": "code",
   "execution_count": null,
   "metadata": {
    "collapsed": true
   },
   "outputs": [],
   "source": [
    "# Esta função calcula a pressão que cada aresta sofre para mudar seu tipo,\n",
    "# ou seja, a quantidade de triângulos instáveis aos quais ela pertence.\n",
    "# Se nenhuma aresta está sofrendo pressão, a função devolve False. Senão,\n",
    "# a aresta com maior pressão muda de tipo e a função devolve True.\n",
    "\n",
    "def update_type(g):\n",
    "\n",
    "    # Inicializa as pressões.\n",
    "\n",
    "    for n, m in g.edges():\n",
    "        g.edge[n][m]['pressure'] = 0\n",
    "\n",
    "    # Para cada triângulo do grafo.\n",
    "\n",
    "    for n in g.nodes():\n",
    "        for m in g.nodes():\n",
    "            if n != m:\n",
    "                for l in g.nodes():\n",
    "                    if n != l and m != l:\n",
    "\n",
    "                        # Armazena em uma lista as três arestas do triângulo.\n",
    "\n",
    "                        edges = [(n, m), (n, l), (m, l)]\n",
    "\n",
    "                        # Conta quantas das arestas do triângulo são positivas.\n",
    "\n",
    "                        positives = 0\n",
    "\n",
    "                        for e in edges:\n",
    "                            if g.edge[e[0]][e[1]]['type'] == 1:\n",
    "                                positives += 1\n",
    "\n",
    "                        # Se há zero ou duas positivas, incrementa as pressões.\n",
    "\n",
    "                        if positives == 0 or positives == 2:\n",
    "                            for e in edges:\n",
    "                                g.edge[e[0]][e[1]]['pressure'] += 1\n",
    "\n",
    "    # Obtém a aresta com maior pressão.\n",
    "\n",
    "    n, m = max(g.edges(), key=lambda e: g.edge[e[0]][e[1]]['pressure'])\n",
    "\n",
    "    # Se essa maior pressão não for zero, muda o tipo da aresta e devolve True.\n",
    "\n",
    "    if g.edge[n][m]['pressure'] > 0:\n",
    "        g.edge[n][m]['type'] *= -1\n",
    "\n",
    "        return True\n",
    "\n",
    "    # Se essa maior pressão for zero, devolve False.\n",
    "\n",
    "    return False"
   ]
  },
  {
   "cell_type": "markdown",
   "metadata": {},
   "source": [
    "Construindo uma animação que simula o que acontece quando tipos são mudados até as pressões acabarem."
   ]
  },
  {
   "cell_type": "code",
   "execution_count": null,
   "metadata": {},
   "outputs": [],
   "source": [
    "def snapshot(g, frames):\n",
    "    convert_types_to_colors(g)\n",
    "\n",
    "    frame = sn.generate_frame(g)\n",
    "\n",
    "    frames.append(frame)\n",
    "\n",
    "\n",
    "frames = []\n",
    "\n",
    "# Atribui aleatoriamente tipos negativos e positivos às arestas.\n",
    "randomize_types(g)\n",
    "\n",
    "# Atribui aleatoriamente posições aos nós.\n",
    "sn.randomize_positions(g)\n",
    "\n",
    "snapshot(g, frames)\n",
    "\n",
    "# Continua até que update_type devolva False, indicando que as pressões acabaram.\n",
    "while update_type(g):\n",
    "\n",
    "    # Move um pouco os vértices de posição, usando o atributo 'type' das\n",
    "    # arestas como referência para saber o quanto dois vértices se atraem.\n",
    "    sn.update_positions(g, 'type')\n",
    "\n",
    "    snapshot(g, frames)\n",
    "\n",
    "sn.show_animation(frames)"
   ]
  },
  {
   "cell_type": "markdown",
   "metadata": {},
   "source": [
    "Balanceamento converge para polarização!"
   ]
  }
 ],
 "metadata": {
  "kernelspec": {
   "display_name": "Python 3",
   "language": "python",
   "name": "python3"
  },
  "language_info": {
   "codemirror_mode": {
    "name": "ipython",
    "version": 3
   },
   "file_extension": ".py",
   "mimetype": "text/x-python",
   "name": "python",
   "nbconvert_exporter": "python",
   "pygments_lexer": "ipython3",
   "version": "3.5.3"
  }
 },
 "nbformat": 4,
 "nbformat_minor": 1
}
