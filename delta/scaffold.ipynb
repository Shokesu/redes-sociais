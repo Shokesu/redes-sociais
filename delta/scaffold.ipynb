{
 "cells": [
  {
   "cell_type": "markdown",
   "metadata": {},
   "source": [
    "# Suporte para Escrita Delta"
   ]
  },
  {
   "cell_type": "code",
   "execution_count": null,
   "metadata": {
    "collapsed": true,
    "scrolled": true
   },
   "outputs": [],
   "source": [
    "import sys\n",
    "sys.path.append('..')\n",
    "\n",
    "import socnet as sn"
   ]
  },
  {
   "cell_type": "markdown",
   "metadata": {},
   "source": [
    "Calculando centralidade *degree* do nó `n` do grafo `g`:"
   ]
  },
  {
   "cell_type": "code",
   "execution_count": null,
   "metadata": {},
   "outputs": [],
   "source": [
    "d = g.degree(n)"
   ]
  },
  {
   "cell_type": "markdown",
   "metadata": {},
   "source": [
    "Calculando centralidade *closeness* do nó `n` do grafo `g`:"
   ]
  },
  {
   "cell_type": "code",
   "execution_count": null,
   "metadata": {
    "collapsed": true
   },
   "outputs": [],
   "source": [
    "sn.build_closeness(g)\n",
    "\n",
    "c = g.nodes[n]['theoretical_closeness']"
   ]
  },
  {
   "cell_type": "markdown",
   "metadata": {},
   "source": [
    "Calculando centralidade *betweenness* do nó `n` do grafo `g`:"
   ]
  },
  {
   "cell_type": "code",
   "execution_count": null,
   "metadata": {
    "collapsed": true
   },
   "outputs": [],
   "source": [
    "sn.build_betweenness(g)\n",
    "\n",
    "b = g.nodes[n]['theoretical_betweenness']"
   ]
  },
  {
   "cell_type": "markdown",
   "metadata": {},
   "source": [
    "Calculando restrição de Burt do nó `n` do grafo `g`:"
   ]
  },
  {
   "cell_type": "code",
   "execution_count": null,
   "metadata": {
    "collapsed": true
   },
   "outputs": [],
   "source": [
    "def calculate_constraint(g, n):\n",
    "    degree_n = g.degree(n)\n",
    "\n",
    "    if degree_n == 0:\n",
    "        return 2\n",
    "\n",
    "    neighbors2 = set(g.neighbors(n))\n",
    "\n",
    "    for m in g.neighbors(n):\n",
    "        for l in g.neighbors(m):\n",
    "            if n != l:\n",
    "                neighbors2.add(l)\n",
    "\n",
    "    constraint = 0\n",
    "\n",
    "    for m in neighbors2:\n",
    "        if g.has_edge(n, m):\n",
    "            sub_constraint = 1 / degree_n\n",
    "        else:\n",
    "            sub_constraint = 0\n",
    "\n",
    "        for l in g.neighbors(n):\n",
    "            if m != l and g.has_edge(m, l):\n",
    "                sub_constraint += (1 / degree_n) * (1 / g.degree(l))\n",
    "\n",
    "        constraint += sub_constraint ** 2\n",
    "\n",
    "    return constraint\n",
    "\n",
    "\n",
    "b = calculate_constraint(g, n)"
   ]
  }
 ],
 "metadata": {
  "kernelspec": {
   "display_name": "Python 3",
   "language": "python",
   "name": "python3"
  },
  "language_info": {
   "codemirror_mode": {
    "name": "ipython",
    "version": 3
   },
   "file_extension": ".py",
   "mimetype": "text/x-python",
   "name": "python",
   "nbconvert_exporter": "python",
   "pygments_lexer": "ipython3",
   "version": "3.5.4"
  }
 },
 "nbformat": 4,
 "nbformat_minor": 1
}
